{
  "nbformat": 4,
  "nbformat_minor": 0,
  "metadata": {
    "colab": {
      "name": "hough_ellipse.ipynb",
      "version": "0.3.2",
      "provenance": [],
      "include_colab_link": true
    },
    "kernelspec": {
      "name": "python3",
      "display_name": "Python 3"
    },
    "accelerator": "GPU"
  },
  "cells": [
    {
      "cell_type": "markdown",
      "metadata": {
        "id": "view-in-github",
        "colab_type": "text"
      },
      "source": [
        "<a href=\"https://colab.research.google.com/github/jamilaandimen/MLCoursera/blob/master/hough_ellipse.ipynb\" target=\"_parent\"><img src=\"https://colab.research.google.com/assets/colab-badge.svg\" alt=\"Open In Colab\"/></a>"
      ]
    },
    {
      "cell_type": "code",
      "metadata": {
        "id": "FLy1eg1FNBK_",
        "colab_type": "code",
        "colab": {}
      },
      "source": [
        "import matplotlib.pyplot as plt\n",
        "\n",
        "from skimage import data, color, img_as_ubyte\n",
        "from skimage.feature import canny\n",
        "from skimage.transform import hough_ellipse\n",
        "from skimage.draw import ellipse_perimeter\n",
        "import cv2\n",
        "# Load picture, convert to grayscale and detect edges\n",
        "image_rgb = cv2.imread('Yellowfin Tuna.jpg')\n",
        "image_gray = color.rgb2gray(image_rgb)\n",
        "edges = canny(image_gray, sigma=2.0,\n",
        "              low_threshold=0.55, high_threshold=0.8)\n",
        "\n",
        "# Perform a Hough Transform\n",
        "# The accuracy corresponds to the bin size of a major axis.\n",
        "# The value is chosen in order to get a single high accumulator.\n",
        "# The threshold eliminates low accumulators\n",
        "result = hough_ellipse(edges, accuracy=20, threshold=250,\n",
        "                       min_size=100, max_size=120)\n",
        "result.sort(order='accumulator')\n",
        "\n",
        "# Estimated parameters for the ellipse\n",
        "best = list(result[-1])\n",
        "yc, xc, a, b = [int(round(x)) for x in best[1:5]]\n",
        "orientation = best[5]\n",
        "\n",
        "# Draw the ellipse on the original image\n",
        "cy, cx = ellipse_perimeter(yc, xc, a, b, orientation)\n",
        "image_rgb[cy, cx] = (0, 0, 255)\n",
        "# Draw the edge (white) and the resulting ellipse (red)\n",
        "edges = color.gray2rgb(img_as_ubyte(edges))\n",
        "edges[cy, cx] = (250, 0, 0)\n",
        "\n",
        "fig2, (ax1, ax2) = plt.subplots(ncols=2, nrows=1, figsize=(8, 4),\n",
        "                                sharex=True, sharey=True)\n",
        "\n",
        "ax1.set_title('Original picture')\n",
        "ax1.imshow(image_rgb)\n",
        "\n",
        "ax2.set_title('Edge (white) and result (red)')\n",
        "ax2.imshow(edges)\n",
        "\n",
        "plt.show()\n"
      ],
      "execution_count": 0,
      "outputs": []
    },
    {
      "cell_type": "markdown",
      "metadata": {
        "id": "25ziRcOUT_s0",
        "colab_type": "text"
      },
      "source": [
        "# could it get better with erosion?"
      ]
    },
    {
      "cell_type": "code",
      "metadata": {
        "id": "gkaXfJhwQGjF",
        "colab_type": "code",
        "colab": {}
      },
      "source": [
        "img_gray=cv2.cvtColor(a, cv2.COLOR_BGR2LAB)\n",
        "r = cv2.bilateralFilter(img_gray ,9,75,75)\n",
        "plt.figure()\n",
        "plt.imshow(r)\n",
        "kernel = np.ones((5,5),np.uint8)\n",
        "erosion = cv2.erode(r,kernel,iterations = 1)\n",
        "plt.imshow(cv2.bilateralFilter(erosion ,9,75,75))"
      ],
      "execution_count": 0,
      "outputs": []
    }
  ]
}